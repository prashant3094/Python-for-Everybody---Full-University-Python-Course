{
  "nbformat": 4,
  "nbformat_minor": 0,
  "metadata": {
    "colab": {
      "name": "Copy of python for everybody.ipynb",
      "provenance": [],
      "collapsed_sections": [],
      "authorship_tag": "ABX9TyNcdwD09tU2nSAH5SSimtB1",
      "include_colab_link": true
    },
    "kernelspec": {
      "name": "python3",
      "display_name": "Python 3"
    },
    "language_info": {
      "name": "python"
    }
  },
  "cells": [
    {
      "cell_type": "markdown",
      "metadata": {
        "id": "view-in-github",
        "colab_type": "text"
      },
      "source": [
        "<a href=\"https://colab.research.google.com/github/prashant3094/Python-for-Everybody---Full-University-Python-Course/blob/main/Copy_of_python_for_everybody.ipynb\" target=\"_parent\"><img src=\"https://colab.research.google.com/assets/colab-badge.svg\" alt=\"Open In Colab\"/></a>"
      ]
    },
    {
      "cell_type": "code",
      "execution_count": null,
      "metadata": {
        "colab": {
          "base_uri": "https://localhost:8080/"
        },
        "id": "Z0lLTPNFd-6T",
        "outputId": "b7aa5a1e-97b2-4cdf-d017-ec7e23f524d0"
      },
      "outputs": [
        {
          "output_type": "stream",
          "name": "stdout",
          "text": [
            "who are you? chuck\n",
            "welcome chuck\n"
          ]
        }
      ],
      "source": [
        "nam=input('who are you? ')\n",
        "print('welcome',nam)"
      ]
    },
    {
      "cell_type": "code",
      "source": [
        "x=2\n",
        "x=x+2\n",
        "print(x)"
      ],
      "metadata": {
        "id": "-v_Y6o63eABd",
        "outputId": "5cb818eb-be2b-4c22-8fea-3fb7dbb412ca",
        "colab": {
          "base_uri": "https://localhost:8080/"
        }
      },
      "execution_count": null,
      "outputs": [
        {
          "output_type": "stream",
          "name": "stdout",
          "text": [
            "4\n"
          ]
        }
      ]
    },
    {
      "cell_type": "code",
      "source": [
        "x=5\n",
        "if x< 10:\n",
        "  print(\"smaller\")\n",
        "if x > 20:\n",
        "  print(\"bigger\")\n",
        "\n",
        "print(\"finished\")"
      ],
      "metadata": {
        "id": "UmnQNvINeAEK",
        "colab": {
          "base_uri": "https://localhost:8080/"
        },
        "outputId": "6f515efc-f1b3-4c53-c2f4-f8465dd72b3f"
      },
      "execution_count": null,
      "outputs": [
        {
          "output_type": "stream",
          "name": "stdout",
          "text": [
            "smaller\n",
            "finished\n"
          ]
        }
      ]
    },
    {
      "cell_type": "markdown",
      "source": [
        "#try and Except in python\n"
      ],
      "metadata": {
        "id": "WtCjsMy2yHHR"
      }
    },
    {
      "cell_type": "markdown",
      "source": [
        "The try block lets you test a block of code for errors.\n",
        "\n",
        "The except block lets you handle the error.\n",
        "\n",
        "The else block lets you execute code when there is no error.\n",
        "\n",
        "The finally block lets you execute code, regardless of the result of the try- and except blocks."
      ],
      "metadata": {
        "id": "s1-HBpPtzbEO"
      }
    },
    {
      "cell_type": "code",
      "source": [
        "try:\n",
        "  print(xx)  #xx is not defined so it try will throw error\n",
        "except:\n",
        "  print(\"an exception occured\")"
      ],
      "metadata": {
        "id": "rFwOfqjmyGSD",
        "outputId": "527fd967-55c4-4ac9-fd1e-deef46b377a1",
        "colab": {
          "base_uri": "https://localhost:8080/"
        }
      },
      "execution_count": null,
      "outputs": [
        {
          "output_type": "stream",
          "name": "stdout",
          "text": [
            "an exception occured\n"
          ]
        }
      ]
    },
    {
      "cell_type": "code",
      "source": [
        "try:\n",
        "  print(xx)\n",
        "except NameError:\n",
        "  print(\"Variable xx is not defined\")\n",
        "except:\n",
        "  print(\"Something else went wrong\")"
      ],
      "metadata": {
        "id": "uZztd8TVyGVP",
        "outputId": "a739617c-57cf-4fa6-da63-b48adb074c7a",
        "colab": {
          "base_uri": "https://localhost:8080/"
        }
      },
      "execution_count": null,
      "outputs": [
        {
          "output_type": "stream",
          "name": "stdout",
          "text": [
            "Variable xx is not defined\n"
          ]
        }
      ]
    },
    {
      "cell_type": "code",
      "source": [
        "try:\n",
        "  print(\"Hello\")  #try statement got run \n",
        "except:\n",
        "  print(\"Something went wrong\")\n",
        "else:\n",
        "  print(\"Nothing went wrong\")"
      ],
      "metadata": {
        "id": "KaKq8OouyGXj",
        "outputId": "4aa7b13d-66a1-4cac-8eed-48fe78015a05",
        "colab": {
          "base_uri": "https://localhost:8080/"
        }
      },
      "execution_count": null,
      "outputs": [
        {
          "output_type": "stream",
          "name": "stdout",
          "text": [
            "Hello\n",
            "Nothing went wrong\n"
          ]
        }
      ]
    },
    {
      "cell_type": "code",
      "source": [
        "try:\n",
        "  print(xx)\n",
        "except:\n",
        "  print(\"Something went wrong\")\n",
        "finally:\n",
        "  print(\"The 'try except' is finished\")"
      ],
      "metadata": {
        "id": "Ffr58BNiyGaT",
        "outputId": "6c2f0f18-6d3d-4fb5-bf5d-dc502ec7061f",
        "colab": {
          "base_uri": "https://localhost:8080/"
        }
      },
      "execution_count": null,
      "outputs": [
        {
          "output_type": "stream",
          "name": "stdout",
          "text": [
            "Something went wrong\n",
            "The 'try except' is finished\n"
          ]
        }
      ]
    },
    {
      "cell_type": "markdown",
      "source": [
        "#if else elif"
      ],
      "metadata": {
        "id": "mAkbGVPS0iGi"
      }
    },
    {
      "cell_type": "code",
      "source": [
        "x=4\n",
        "if x>2:\n",
        "  print(\"bigger\")\n",
        "else:\n",
        "  print(\"smaller\")"
      ],
      "metadata": {
        "id": "9dNN0YaKyGdD",
        "colab": {
          "base_uri": "https://localhost:8080/"
        },
        "outputId": "5e732b56-e70b-4c1d-f05d-d49a1e3eded1"
      },
      "execution_count": 3,
      "outputs": [
        {
          "output_type": "stream",
          "name": "stdout",
          "text": [
            "bigger\n"
          ]
        }
      ]
    },
    {
      "cell_type": "code",
      "source": [
        "x=0\n",
        "if x<2:\n",
        "  print(\"small\")\n",
        "elif x< 10:\n",
        "  print(\"medium\")\n",
        "else:\n",
        "  print(\"large\")\n",
        "\n",
        "print(\"all done\")"
      ],
      "metadata": {
        "colab": {
          "base_uri": "https://localhost:8080/"
        },
        "id": "u1SU9QZ-305L",
        "outputId": "e658ecbf-e8a2-445e-ee64-de37462e1fa9"
      },
      "execution_count": 4,
      "outputs": [
        {
          "output_type": "stream",
          "name": "stdout",
          "text": [
            "small\n",
            "all done\n"
          ]
        }
      ]
    },
    {
      "cell_type": "code",
      "source": [
        "x=20\n",
        "if x<2:\n",
        "  print(\"small\")\n",
        "elif x< 10:\n",
        "  print(\"medium\")\n",
        "else:\n",
        "  print(\"large\")\n",
        "\n",
        "print(\"all done\")"
      ],
      "metadata": {
        "colab": {
          "base_uri": "https://localhost:8080/"
        },
        "id": "U44oSyO44NSc",
        "outputId": "766a3c66-14e6-452f-ea8a-45ec3c9515db"
      },
      "execution_count": 5,
      "outputs": [
        {
          "output_type": "stream",
          "name": "stdout",
          "text": [
            "large\n",
            "all done\n"
          ]
        }
      ]
    },
    {
      "cell_type": "code",
      "source": [
        "x=5\n",
        "if x<2:\n",
        "  print(\"small\")\n",
        "elif x< 10:\n",
        "  print(\"medium\")\n",
        "else:\n",
        "  print(\"large\")\n",
        "\n",
        "print(\"all done\")"
      ],
      "metadata": {
        "colab": {
          "base_uri": "https://localhost:8080/"
        },
        "id": "__QQhFvl4QNL",
        "outputId": "812506ad-2476-471c-9115-b25b149c16ec"
      },
      "execution_count": 6,
      "outputs": [
        {
          "output_type": "stream",
          "name": "stdout",
          "text": [
            "medium\n",
            "all done\n"
          ]
        }
      ]
    },
    {
      "cell_type": "code",
      "source": [
        "x=20\n",
        "if x<2:\n",
        "  print(\"small\")\n",
        "elif x< 10:\n",
        "  print(\"medium\")\n",
        "else:\n",
        "  print(\"large\")\n",
        "\n",
        "print(\"all done\")"
      ],
      "metadata": {
        "colab": {
          "base_uri": "https://localhost:8080/"
        },
        "id": "3Xuj-lPK4QPc",
        "outputId": "4ed532b0-6f8e-46d9-cb5a-ec3d26c93e73"
      },
      "execution_count": 7,
      "outputs": [
        {
          "output_type": "stream",
          "name": "stdout",
          "text": [
            "large\n",
            "all done\n"
          ]
        }
      ]
    },
    {
      "cell_type": "code",
      "source": [
        ""
      ],
      "metadata": {
        "id": "4pADWsa44QUX"
      },
      "execution_count": null,
      "outputs": []
    },
    {
      "cell_type": "code",
      "source": [
        ""
      ],
      "metadata": {
        "id": "Mz2kw6tI4QW0"
      },
      "execution_count": null,
      "outputs": []
    },
    {
      "cell_type": "code",
      "source": [
        ""
      ],
      "metadata": {
        "id": "OkQDCpYH4QZv"
      },
      "execution_count": null,
      "outputs": []
    }
  ]
}