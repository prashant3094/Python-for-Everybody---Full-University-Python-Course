{
  "nbformat": 4,
  "nbformat_minor": 0,
  "metadata": {
    "colab": {
      "name": "Copy of python for everybody.ipynb",
      "provenance": [],
      "collapsed_sections": [],
      "authorship_tag": "ABX9TyONXdV/+uDFoklWicdViZDM",
      "include_colab_link": true
    },
    "kernelspec": {
      "name": "python3",
      "display_name": "Python 3"
    },
    "language_info": {
      "name": "python"
    }
  },
  "cells": [
    {
      "cell_type": "markdown",
      "metadata": {
        "id": "view-in-github",
        "colab_type": "text"
      },
      "source": [
        "<a href=\"https://colab.research.google.com/github/prashant3094/Python-for-Everybody---Full-University-Python-Course/blob/main/Copy_of_python_for_everybody.ipynb\" target=\"_parent\"><img src=\"https://colab.research.google.com/assets/colab-badge.svg\" alt=\"Open In Colab\"/></a>"
      ]
    },
    {
      "cell_type": "code",
      "execution_count": null,
      "metadata": {
        "colab": {
          "base_uri": "https://localhost:8080/"
        },
        "id": "Z0lLTPNFd-6T",
        "outputId": "b7aa5a1e-97b2-4cdf-d017-ec7e23f524d0"
      },
      "outputs": [
        {
          "output_type": "stream",
          "name": "stdout",
          "text": [
            "who are you? chuck\n",
            "welcome chuck\n"
          ]
        }
      ],
      "source": [
        "nam=input('who are you? ')\n",
        "print('welcome',nam)"
      ]
    },
    {
      "cell_type": "code",
      "source": [
        "x=2\n",
        "x=x+2\n",
        "print(x)"
      ],
      "metadata": {
        "id": "-v_Y6o63eABd",
        "outputId": "5cb818eb-be2b-4c22-8fea-3fb7dbb412ca",
        "colab": {
          "base_uri": "https://localhost:8080/"
        }
      },
      "execution_count": null,
      "outputs": [
        {
          "output_type": "stream",
          "name": "stdout",
          "text": [
            "4\n"
          ]
        }
      ]
    },
    {
      "cell_type": "code",
      "source": [
        "x=5\n",
        "if x< 10:\n",
        "  print(\"smaller\")\n",
        "if x > 20:\n",
        "  print(\"bigger\")\n",
        "\n",
        "print(\"finished\")"
      ],
      "metadata": {
        "id": "UmnQNvINeAEK",
        "colab": {
          "base_uri": "https://localhost:8080/"
        },
        "outputId": "6f515efc-f1b3-4c53-c2f4-f8465dd72b3f"
      },
      "execution_count": null,
      "outputs": [
        {
          "output_type": "stream",
          "name": "stdout",
          "text": [
            "smaller\n",
            "finished\n"
          ]
        }
      ]
    },
    {
      "cell_type": "markdown",
      "source": [
        "#try and Except in python\n"
      ],
      "metadata": {
        "id": "WtCjsMy2yHHR"
      }
    },
    {
      "cell_type": "markdown",
      "source": [
        "The try block lets you test a block of code for errors.\n",
        "\n",
        "The except block lets you handle the error.\n",
        "\n",
        "The else block lets you execute code when there is no error.\n",
        "\n",
        "The finally block lets you execute code, regardless of the result of the try- and except blocks."
      ],
      "metadata": {
        "id": "s1-HBpPtzbEO"
      }
    },
    {
      "cell_type": "code",
      "source": [
        "try:\n",
        "  print(xx)  #xx is not defined so it try will throw error\n",
        "except:\n",
        "  print(\"an exception occured\")"
      ],
      "metadata": {
        "id": "rFwOfqjmyGSD",
        "outputId": "527fd967-55c4-4ac9-fd1e-deef46b377a1",
        "colab": {
          "base_uri": "https://localhost:8080/"
        }
      },
      "execution_count": null,
      "outputs": [
        {
          "output_type": "stream",
          "name": "stdout",
          "text": [
            "an exception occured\n"
          ]
        }
      ]
    },
    {
      "cell_type": "code",
      "source": [
        "try:\n",
        "  print(xx)\n",
        "except NameError:\n",
        "  print(\"Variable xx is not defined\")\n",
        "except:\n",
        "  print(\"Something else went wrong\")"
      ],
      "metadata": {
        "id": "uZztd8TVyGVP",
        "outputId": "a739617c-57cf-4fa6-da63-b48adb074c7a",
        "colab": {
          "base_uri": "https://localhost:8080/"
        }
      },
      "execution_count": null,
      "outputs": [
        {
          "output_type": "stream",
          "name": "stdout",
          "text": [
            "Variable xx is not defined\n"
          ]
        }
      ]
    },
    {
      "cell_type": "code",
      "source": [
        "try:\n",
        "  print(\"Hello\")  #try statement got run \n",
        "except:\n",
        "  print(\"Something went wrong\")\n",
        "else:\n",
        "  print(\"Nothing went wrong\")"
      ],
      "metadata": {
        "id": "KaKq8OouyGXj",
        "outputId": "4aa7b13d-66a1-4cac-8eed-48fe78015a05",
        "colab": {
          "base_uri": "https://localhost:8080/"
        }
      },
      "execution_count": null,
      "outputs": [
        {
          "output_type": "stream",
          "name": "stdout",
          "text": [
            "Hello\n",
            "Nothing went wrong\n"
          ]
        }
      ]
    },
    {
      "cell_type": "code",
      "source": [
        "try:\n",
        "  print(xx)\n",
        "except:\n",
        "  print(\"Something went wrong\")\n",
        "finally:\n",
        "  print(\"The 'try except' is finished\")"
      ],
      "metadata": {
        "id": "Ffr58BNiyGaT",
        "outputId": "6c2f0f18-6d3d-4fb5-bf5d-dc502ec7061f",
        "colab": {
          "base_uri": "https://localhost:8080/"
        }
      },
      "execution_count": null,
      "outputs": [
        {
          "output_type": "stream",
          "name": "stdout",
          "text": [
            "Something went wrong\n",
            "The 'try except' is finished\n"
          ]
        }
      ]
    },
    {
      "cell_type": "markdown",
      "source": [
        "#if else elif"
      ],
      "metadata": {
        "id": "mAkbGVPS0iGi"
      }
    },
    {
      "cell_type": "code",
      "source": [
        "x=4\n",
        "if x>2:\n",
        "  print(\"bigger\")\n",
        "else:\n",
        "  print(\"smaller\")"
      ],
      "metadata": {
        "id": "9dNN0YaKyGdD",
        "colab": {
          "base_uri": "https://localhost:8080/"
        },
        "outputId": "5e732b56-e70b-4c1d-f05d-d49a1e3eded1"
      },
      "execution_count": null,
      "outputs": [
        {
          "output_type": "stream",
          "name": "stdout",
          "text": [
            "bigger\n"
          ]
        }
      ]
    },
    {
      "cell_type": "code",
      "source": [
        "x=0\n",
        "if x<2:\n",
        "  print(\"small\")\n",
        "elif x< 10:\n",
        "  print(\"medium\")\n",
        "else:\n",
        "  print(\"large\")\n",
        "\n",
        "print(\"all done\")"
      ],
      "metadata": {
        "colab": {
          "base_uri": "https://localhost:8080/"
        },
        "id": "u1SU9QZ-305L",
        "outputId": "e658ecbf-e8a2-445e-ee64-de37462e1fa9"
      },
      "execution_count": null,
      "outputs": [
        {
          "output_type": "stream",
          "name": "stdout",
          "text": [
            "small\n",
            "all done\n"
          ]
        }
      ]
    },
    {
      "cell_type": "code",
      "source": [
        "x=20\n",
        "if x<2:\n",
        "  print(\"small\")\n",
        "elif x< 10:\n",
        "  print(\"medium\")\n",
        "else:\n",
        "  print(\"large\")\n",
        "\n",
        "print(\"all done\")"
      ],
      "metadata": {
        "colab": {
          "base_uri": "https://localhost:8080/"
        },
        "id": "U44oSyO44NSc",
        "outputId": "766a3c66-14e6-452f-ea8a-45ec3c9515db"
      },
      "execution_count": null,
      "outputs": [
        {
          "output_type": "stream",
          "name": "stdout",
          "text": [
            "large\n",
            "all done\n"
          ]
        }
      ]
    },
    {
      "cell_type": "code",
      "source": [
        "x=5\n",
        "if x<2:\n",
        "  print(\"small\")\n",
        "elif x< 10:\n",
        "  print(\"medium\")\n",
        "else:\n",
        "  print(\"large\")\n",
        "\n",
        "print(\"all done\")"
      ],
      "metadata": {
        "colab": {
          "base_uri": "https://localhost:8080/"
        },
        "id": "__QQhFvl4QNL",
        "outputId": "812506ad-2476-471c-9115-b25b149c16ec"
      },
      "execution_count": null,
      "outputs": [
        {
          "output_type": "stream",
          "name": "stdout",
          "text": [
            "medium\n",
            "all done\n"
          ]
        }
      ]
    },
    {
      "cell_type": "code",
      "source": [
        "x=20\n",
        "if x<2:\n",
        "  print(\"small\")\n",
        "elif x< 10:\n",
        "  print(\"medium\")\n",
        "else:\n",
        "  print(\"large\")\n",
        "\n",
        "print(\"all done\")"
      ],
      "metadata": {
        "colab": {
          "base_uri": "https://localhost:8080/"
        },
        "id": "3Xuj-lPK4QPc",
        "outputId": "4ed532b0-6f8e-46d9-cb5a-ec3d26c93e73"
      },
      "execution_count": null,
      "outputs": [
        {
          "output_type": "stream",
          "name": "stdout",
          "text": [
            "large\n",
            "all done\n"
          ]
        }
      ]
    },
    {
      "cell_type": "markdown",
      "source": [
        "#Function"
      ],
      "metadata": {
        "id": "2zFd1BI67M6e"
      }
    },
    {
      "cell_type": "markdown",
      "source": [
        "in python function some reusabel code that takes arguments(s) as input does some computation and then return results.\n",
        "\n"
      ],
      "metadata": {
        "id": "MekiEb_y8pdL"
      }
    },
    {
      "cell_type": "code",
      "source": [
        "def thing():\n",
        "  print(\"hello\")\n",
        "  print(\"fun\")"
      ],
      "metadata": {
        "id": "4pADWsa44QUX"
      },
      "execution_count": null,
      "outputs": []
    },
    {
      "cell_type": "code",
      "source": [
        "thing() #calling a function"
      ],
      "metadata": {
        "colab": {
          "base_uri": "https://localhost:8080/"
        },
        "id": "Mz2kw6tI4QW0",
        "outputId": "731f6f1a-c5cd-484d-8392-41fd4e658f48"
      },
      "execution_count": null,
      "outputs": [
        {
          "output_type": "stream",
          "name": "stdout",
          "text": [
            "hello\n",
            "fun\n"
          ]
        }
      ]
    },
    {
      "cell_type": "code",
      "source": [
        "def print_lyrics():\n",
        "  print(\"i'm a luberjackand i am okay\")\n",
        "  print('i sleep all night and i work all day')"
      ],
      "metadata": {
        "id": "OkQDCpYH4QZv"
      },
      "execution_count": null,
      "outputs": []
    },
    {
      "cell_type": "code",
      "source": [
        "print_lyrics()"
      ],
      "metadata": {
        "colab": {
          "base_uri": "https://localhost:8080/"
        },
        "id": "wbHDIt3T-uzJ",
        "outputId": "761c4950-9756-413e-e871-c3ccda60a6c2"
      },
      "execution_count": null,
      "outputs": [
        {
          "output_type": "stream",
          "name": "stdout",
          "text": [
            "i'm a luberjackand i am okay\n",
            "i sleep all night and i work all day\n"
          ]
        }
      ]
    },
    {
      "cell_type": "code",
      "source": [
        "def greet(lang):  #function with argumnets\n",
        "    if lang==\"es\":\n",
        "      print(\"hola\")\n",
        "    elif lang==\"fr\":\n",
        "      print(\"bonjuri\")\n",
        "    else:\n",
        "      print(\"hello\")"
      ],
      "metadata": {
        "id": "QfG4dZny-u1_"
      },
      "execution_count": null,
      "outputs": []
    },
    {
      "cell_type": "code",
      "source": [
        "greet(\"es\")\n",
        "print(\"*******\")\n",
        "greet(\"fr\")\n",
        "print(\"******\")\n",
        "greet(\"jk\")"
      ],
      "metadata": {
        "colab": {
          "base_uri": "https://localhost:8080/"
        },
        "id": "nxtnnQ42-u7p",
        "outputId": "3c15bace-b766-4b4f-b96b-322ad4a3fc6b"
      },
      "execution_count": null,
      "outputs": [
        {
          "output_type": "stream",
          "name": "stdout",
          "text": [
            "hola\n",
            "*******\n",
            "bonjuri\n",
            "******\n",
            "hello\n"
          ]
        }
      ]
    },
    {
      "cell_type": "code",
      "source": [
        "def greet():\n",
        "  return (\"hello\")\n",
        "print(greet(),\"glenn\")\n",
        "print(greet(),'sally')"
      ],
      "metadata": {
        "colab": {
          "base_uri": "https://localhost:8080/"
        },
        "id": "YWTFgwGeBebQ",
        "outputId": "a56200c5-1858-485c-9d24-1c561bf9ff6c"
      },
      "execution_count": null,
      "outputs": [
        {
          "output_type": "stream",
          "name": "stdout",
          "text": [
            "hello glenn\n",
            "hello sally\n"
          ]
        }
      ]
    },
    {
      "cell_type": "markdown",
      "source": [
        "#while loop"
      ],
      "metadata": {
        "id": "fSyB-heNIQKA"
      }
    },
    {
      "cell_type": "code",
      "source": [
        "n=5\n",
        "while n >0:\n",
        "  print(n)\n",
        "  n=n-1\n",
        "print(\"blastoff\")\n",
        "print(n)"
      ],
      "metadata": {
        "colab": {
          "base_uri": "https://localhost:8080/"
        },
        "id": "bBLrPjTuBeel",
        "outputId": "f687eecd-7e42-425a-92e6-5a346d917753"
      },
      "execution_count": null,
      "outputs": [
        {
          "output_type": "stream",
          "name": "stdout",
          "text": [
            "5\n",
            "4\n",
            "3\n",
            "2\n",
            "1\n",
            "blastoff\n",
            "0\n"
          ]
        }
      ]
    },
    {
      "cell_type": "markdown",
      "source": [
        "#finding the largest number in the list"
      ],
      "metadata": {
        "id": "yhjC650BMeiD"
      }
    },
    {
      "cell_type": "code",
      "source": [
        "largest_so_far=-1\n",
        "print(\"before\",largest_so_far)\n",
        "for the_num in [9,41,12,3,74,15]:\n",
        "  if the_num > largest_so_far:\n",
        "    largest_so_far= the_num\n",
        "  print(largest_so_far,the_num)\n",
        "\n",
        "print(\"after\",largest_so_far)"
      ],
      "metadata": {
        "colab": {
          "base_uri": "https://localhost:8080/"
        },
        "id": "kcQ1KK2LBehp",
        "outputId": "317ccf43-73a0-4d4e-950c-08d9b8a9f6d1"
      },
      "execution_count": null,
      "outputs": [
        {
          "output_type": "stream",
          "name": "stdout",
          "text": [
            "before -1\n",
            "9 9\n",
            "41 41\n",
            "41 12\n",
            "41 3\n",
            "74 74\n",
            "74 15\n",
            "after 74\n"
          ]
        }
      ]
    },
    {
      "cell_type": "markdown",
      "source": [
        "#finding the smallest number in the list"
      ],
      "metadata": {
        "id": "6iXXA8K2Z4_R"
      }
    },
    {
      "cell_type": "code",
      "source": [
        "smallest= None\n",
        "print(\"before\")\n",
        "for value in [9,41,12,3,74,15]:\n",
        "  if smallest is None:\n",
        "    smallest=value\n",
        "  elif value < smallest:\n",
        "    smallest=value\n",
        "  print(smallest, value)\n",
        "print(\"After\", smallest)\n"
      ],
      "metadata": {
        "colab": {
          "base_uri": "https://localhost:8080/"
        },
        "id": "x3LEBkqPN8PR",
        "outputId": "8e0b8ba3-48a1-4837-8a23-4245dd346132"
      },
      "execution_count": null,
      "outputs": [
        {
          "output_type": "stream",
          "name": "stdout",
          "text": [
            "before\n",
            "9 9\n",
            "9 41\n",
            "9 12\n",
            "3 3\n",
            "3 74\n",
            "3 15\n",
            "After 3\n"
          ]
        }
      ]
    },
    {
      "cell_type": "markdown",
      "source": [
        "#strings\n"
      ],
      "metadata": {
        "id": "zBYZKWjAvwz7"
      }
    },
    {
      "cell_type": "code",
      "source": [
        "fruit=\"banana\"     # b=0 , a=1 ,n=2 ,a=3, n=4, a=5\n",
        "letter=fruit[1]\n",
        "print(len(fruit))\n",
        "print(\"********\")\n",
        "print(letter)  #indexing to the string"
      ],
      "metadata": {
        "colab": {
          "base_uri": "https://localhost:8080/"
        },
        "id": "Rf00HyhHN8SJ",
        "outputId": "93507e45-850c-4a34-ded9-3982a28fb860"
      },
      "execution_count": null,
      "outputs": [
        {
          "output_type": "stream",
          "name": "stdout",
          "text": [
            "6\n",
            "********\n",
            "a\n"
          ]
        }
      ]
    },
    {
      "cell_type": "code",
      "source": [
        "x=3\n",
        "w=fruit[x-1]\n",
        "print(w)"
      ],
      "metadata": {
        "colab": {
          "base_uri": "https://localhost:8080/"
        },
        "id": "TPZj1EOtN8Ul",
        "outputId": "7bb9de1c-1927-4826-c2bf-ff75ef436776"
      },
      "execution_count": null,
      "outputs": [
        {
          "output_type": "stream",
          "name": "stdout",
          "text": [
            "n\n"
          ]
        }
      ]
    },
    {
      "cell_type": "code",
      "source": [
        "#looping through string\n",
        "fruit=\"banana\"\n",
        "for i in fruit:\n",
        "  print(i)"
      ],
      "metadata": {
        "colab": {
          "base_uri": "https://localhost:8080/"
        },
        "id": "M_5obpCxN8Wu",
        "outputId": "49efd493-2403-4c73-dabf-67783e7bf072"
      },
      "execution_count": null,
      "outputs": [
        {
          "output_type": "stream",
          "name": "stdout",
          "text": [
            "b\n",
            "a\n",
            "n\n",
            "a\n",
            "n\n",
            "a\n"
          ]
        }
      ]
    },
    {
      "cell_type": "markdown",
      "source": [
        "#reading files"
      ],
      "metadata": {
        "id": "Tgk9lt8lDt3G"
      }
    },
    {
      "cell_type": "markdown",
      "source": [
        "A text file can be thought of as sequence of lines"
      ],
      "metadata": {
        "id": "HW4ew_mlEAX-"
      }
    },
    {
      "cell_type": "markdown",
      "source": [
        "#list"
      ],
      "metadata": {
        "id": "l2kukVsspKDv"
      }
    },
    {
      "cell_type": "markdown",
      "source": [
        "algorithms= a set of rules or steps used to solve a problem\n",
        "\n",
        "data structure=a particular way of orginizing data in a computer\n"
      ],
      "metadata": {
        "id": "s65jSWq5po4J"
      }
    },
    {
      "cell_type": "code",
      "source": [
        "abc=\"with three words\"\n",
        "stuff=abc.split()\n",
        "print(stuff)"
      ],
      "metadata": {
        "id": "b77cKPvZN8Zb",
        "colab": {
          "base_uri": "https://localhost:8080/"
        },
        "outputId": "32647074-9e27-4f9c-9c80-f748f491de76"
      },
      "execution_count": 1,
      "outputs": [
        {
          "output_type": "stream",
          "name": "stdout",
          "text": [
            "['with', 'three', 'words']\n"
          ]
        }
      ]
    },
    {
      "cell_type": "markdown",
      "source": [
        "#Dictioanries"
      ],
      "metadata": {
        "id": "GnfCESUb6ANW"
      }
    },
    {
      "cell_type": "markdown",
      "source": [
        "list = a linear collection of values that stay in order\n",
        "\n",
        "dictionary= a bag of values each with its own labels"
      ],
      "metadata": {
        "id": "6iCDfQ686FAc"
      }
    },
    {
      "cell_type": "code",
      "source": [
        "purse=dict()\n",
        "purse['money']=12\n",
        "purse['candy']=3\n",
        "purse['tissue']=75\n",
        "purse"
      ],
      "metadata": {
        "id": "T7-FxNI5N8bj",
        "colab": {
          "base_uri": "https://localhost:8080/"
        },
        "outputId": "d540c59c-a233-4656-de6b-ffcb47553f7f"
      },
      "execution_count": 3,
      "outputs": [
        {
          "output_type": "execute_result",
          "data": {
            "text/plain": [
              "{'candy': 3, 'money': 12, 'tissue': 75}"
            ]
          },
          "metadata": {},
          "execution_count": 3
        }
      ]
    },
    {
      "cell_type": "code",
      "source": [
        "#get in python\n",
        "car = {\n",
        "  \"brand\": \"Ford\",\n",
        "  \"model\": \"Mustang\",\n",
        "  \"year\": 1964\n",
        "}\n",
        "\n",
        "x = car.get(\"model\")\n",
        "\n",
        "print(x)"
      ],
      "metadata": {
        "id": "S87gCDYZN8eJ",
        "colab": {
          "base_uri": "https://localhost:8080/"
        },
        "outputId": "2b69230a-78c2-4ab4-a0dc-8eb6ea70d172"
      },
      "execution_count": 4,
      "outputs": [
        {
          "output_type": "stream",
          "name": "stdout",
          "text": [
            "Mustang\n"
          ]
        }
      ]
    },
    {
      "cell_type": "markdown",
      "source": [
        "#tuples"
      ],
      "metadata": {
        "id": "Ed7ayralEXB3"
      }
    },
    {
      "cell_type": "markdown",
      "source": [
        "tuples are another kind of sequqnce that function much likea list\n",
        "\n",
        "they have element which are indexed starting at 0"
      ],
      "metadata": {
        "id": "T21VnXahRV4d"
      }
    },
    {
      "cell_type": "code",
      "source": [
        "x=(\"glenn\",\"sally\",\"jospe\")\n",
        "print(x[2])\n"
      ],
      "metadata": {
        "id": "S-tMpmFoBel5",
        "colab": {
          "base_uri": "https://localhost:8080/"
        },
        "outputId": "c46364e5-de22-402a-9149-88d690a521a0"
      },
      "execution_count": 5,
      "outputs": [
        {
          "output_type": "stream",
          "name": "stdout",
          "text": [
            "jospe\n"
          ]
        }
      ]
    },
    {
      "cell_type": "code",
      "source": [
        "y=(1,9,2)\n",
        "print(y)\n",
        "print(max(y))"
      ],
      "metadata": {
        "colab": {
          "base_uri": "https://localhost:8080/"
        },
        "id": "j9FUf-IrR8FM",
        "outputId": "88f2d652-b47d-49cc-b234-0fd6f5ad9fbc"
      },
      "execution_count": 6,
      "outputs": [
        {
          "output_type": "stream",
          "name": "stdout",
          "text": [
            "(1, 9, 2)\n",
            "9\n"
          ]
        }
      ]
    },
    {
      "cell_type": "markdown",
      "source": [
        "#tuples are immutable,  list are mutable"
      ],
      "metadata": {
        "id": "JiLmiyE1SV52"
      }
    },
    {
      "cell_type": "code",
      "source": [
        "#we can also put a tuple on the left hand side of assignement statement\n",
        "(x,y)=(4, 'fred')\n",
        "print(y)"
      ],
      "metadata": {
        "colab": {
          "base_uri": "https://localhost:8080/"
        },
        "id": "oX5bw843W7VW",
        "outputId": "faa8e82b-7879-4cdf-d085-f34330cb0e74"
      },
      "execution_count": 11,
      "outputs": [
        {
          "output_type": "stream",
          "name": "stdout",
          "text": [
            "fred\n"
          ]
        }
      ]
    },
    {
      "cell_type": "code",
      "source": [
        "(a,b)=(99,98)\n",
        "print(a)"
      ],
      "metadata": {
        "colab": {
          "base_uri": "https://localhost:8080/"
        },
        "id": "yPkgmseNW7Y0",
        "outputId": "3745da31-ef0f-41ae-a585-32cdab4e6494"
      },
      "execution_count": 9,
      "outputs": [
        {
          "output_type": "stream",
          "name": "stdout",
          "text": [
            "99\n"
          ]
        }
      ]
    },
    {
      "cell_type": "code",
      "source": [
        ""
      ],
      "metadata": {
        "id": "Z5BqtpZ5W7bj"
      },
      "execution_count": null,
      "outputs": []
    },
    {
      "cell_type": "code",
      "source": [
        ""
      ],
      "metadata": {
        "id": "lpFMCj6uW7eP"
      },
      "execution_count": null,
      "outputs": []
    },
    {
      "cell_type": "code",
      "source": [
        ""
      ],
      "metadata": {
        "id": "0cNbMRs-W7jU"
      },
      "execution_count": null,
      "outputs": []
    }
  ]
}