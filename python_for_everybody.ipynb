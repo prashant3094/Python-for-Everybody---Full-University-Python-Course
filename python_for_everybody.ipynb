{
  "nbformat": 4,
  "nbformat_minor": 0,
  "metadata": {
    "colab": {
      "name": "python for everybody.ipynb",
      "provenance": [],
      "authorship_tag": "ABX9TyMRDUBk85dXCtqC5sAVEFHq",
      "include_colab_link": true
    },
    "kernelspec": {
      "name": "python3",
      "display_name": "Python 3"
    },
    "language_info": {
      "name": "python"
    }
  },
  "cells": [
    {
      "cell_type": "markdown",
      "metadata": {
        "id": "view-in-github",
        "colab_type": "text"
      },
      "source": [
        "<a href=\"https://colab.research.google.com/github/prashant3094/Python-for-Everybody---Full-University-Python-Course/blob/main/python_for_everybody.ipynb\" target=\"_parent\"><img src=\"https://colab.research.google.com/assets/colab-badge.svg\" alt=\"Open In Colab\"/></a>"
      ]
    },
    {
      "cell_type": "code",
      "execution_count": null,
      "metadata": {
        "colab": {
          "base_uri": "https://localhost:8080/"
        },
        "id": "Z0lLTPNFd-6T",
        "outputId": "ecece00b-80fb-487c-b398-44d8b74c2b21"
      },
      "outputs": [
        {
          "output_type": "stream",
          "name": "stdout",
          "text": [
            "who are you? chuck\n",
            "welcome chuck\n"
          ]
        }
      ],
      "source": [
        "nam=input('who are you? ')\n",
        "print('welcome',nam)"
      ]
    },
    {
      "cell_type": "code",
      "source": [
        ""
      ],
      "metadata": {
        "id": "-v_Y6o63eABd"
      },
      "execution_count": null,
      "outputs": []
    },
    {
      "cell_type": "code",
      "source": [
        ""
      ],
      "metadata": {
        "id": "UmnQNvINeAEK"
      },
      "execution_count": null,
      "outputs": []
    }
  ]
}